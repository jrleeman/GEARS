{
 "cells": [
  {
   "cell_type": "code",
   "execution_count": 1,
   "id": "24f77542-c579-47cb-bcab-d8bc0c4e7e74",
   "metadata": {},
   "outputs": [],
   "source": [
    "import numpy as np\n",
    "import matplotlib.pyplot as plt\n",
    "import ipywidgets as widgets\n",
    "%matplotlib inline"
   ]
  },
  {
   "cell_type": "code",
   "execution_count": 2,
   "id": "04c9743e-028c-4ae1-b60c-2e42a796d2aa",
   "metadata": {},
   "outputs": [],
   "source": [
    "def sample_with_adc(voltage, boundaries):\n",
    "    a = np.zeros_like(voltage)\n",
    "    for i, v in enumerate(voltage):\n",
    "        idx = np.argmin(np.abs(boundaries - v))\n",
    "        a[i] = boundaries[idx]\n",
    "    return a"
   ]
  },
  {
   "cell_type": "code",
   "execution_count": 3,
   "id": "4e56204e-8e40-4f1e-ba16-d37d1aedb1d4",
   "metadata": {},
   "outputs": [],
   "source": [
    "def plot_adc(bits, vrange_bipolar, amplitude, frequency, sps):\n",
    "    volts_per_bit = vrange_bipolar * 2 / (2**bits - 1)\n",
    "    voltage_boundaries = volts_per_bit * np.arange(2**bits) - vrange_bipolar\n",
    "\n",
    "    time = np.linspace(0, 2 * np.pi, 1000)\n",
    "    sps_time = np.linspace(0, 2 * np.pi, sps)\n",
    "    voltage = np.sin(time * frequency) * amplitude\n",
    "    sps_voltage = np.sin(sps_time * frequency) * amplitude\n",
    "\n",
    "    adc_output = sample_with_adc(sps_voltage, voltage_boundaries)\n",
    "\n",
    "    fig, (ax, axb) = plt.subplots(ncols=2, figsize=(12, 6), sharex=True, sharey=True)\n",
    "    ax.plot(time / (2 * np.pi), voltage)\n",
    "    ax.scatter(sps_time / (2 * np.pi), adc_output, color='tab:orange', marker='+', s=50)\n",
    "\n",
    "    axb.plot(sps_time / (2 * np.pi), adc_output, color='tab:red')\n",
    "\n",
    "    for v in voltage_boundaries:\n",
    "        ax.axhline(v, color='k', linestyle='--', linewidth=0.5)\n",
    "        \n",
    "    ax.set_xlabel('Time [sec]')\n",
    "    axb.set_xlabel('Time [sec]')\n",
    "    ax.set_ylabel('Volts')"
   ]
  },
  {
   "cell_type": "code",
   "execution_count": 4,
   "id": "90b2a2c4-c1f7-4fbd-8a0a-91077caef48a",
   "metadata": {},
   "outputs": [],
   "source": [
    "layout = widgets.Layout(width='auto')\n",
    "bit_slider = widgets.IntSlider(min=1, max=16, value=3, description='Bits', layout=layout)\n",
    "vrange_slider = widgets.IntSlider(min=1, max=10, value=5, description='ADC Range (V)', layout=layout, style= {'description_width': 'initial'})\n",
    "amplitude_slider = widgets.FloatSlider(min=0, max=10, value=5, description='Signal Amp.(V)', layout=layout, style= {'description_width': 'initial'})\n",
    "frequency_slider = widgets.IntSlider(min=1, max=10, value=1, description='Frequency (Hz)', layout=layout, style= {'description_width': 'initial'})\n",
    "sps_slider = widgets.IntSlider(min=10, max=1000, value=100, description='SPS', layout=layout, style= {'description_width': 'initial'})"
   ]
  },
  {
   "cell_type": "code",
   "execution_count": 5,
   "id": "ab017f5e-fed3-4d80-8220-c2b873a3d82f",
   "metadata": {},
   "outputs": [
    {
     "data": {
      "application/vnd.jupyter.widget-view+json": {
       "model_id": "6c62c50c052f4f2991edf382c6706a6e",
       "version_major": 2,
       "version_minor": 0
      },
      "text/plain": [
       "interactive(children=(IntSlider(value=3, description='Bits', layout=Layout(width='auto'), max=16, min=1), IntS…"
      ]
     },
     "metadata": {},
     "output_type": "display_data"
    },
    {
     "data": {
      "text/plain": [
       "<function __main__.plot_adc(bits, vrange_bipolar, amplitude, frequency, sps)>"
      ]
     },
     "execution_count": 5,
     "metadata": {},
     "output_type": "execute_result"
    }
   ],
   "source": [
    "widgets.interact(plot_adc, bits=bit_slider, vrange_bipolar=vrange_slider, amplitude=amplitude_slider, frequency=frequency_slider, sps=sps_slider)"
   ]
  },
  {
   "cell_type": "code",
   "execution_count": null,
   "id": "58fe4fc7-e8a3-4668-b993-5e721acf2d52",
   "metadata": {},
   "outputs": [],
   "source": []
  },
  {
   "cell_type": "code",
   "execution_count": null,
   "id": "8e85ecf7-f9b6-4e5f-a084-d43e9610c3a2",
   "metadata": {},
   "outputs": [],
   "source": []
  },
  {
   "cell_type": "code",
   "execution_count": null,
   "id": "7ba416a7-8b22-4c7a-9164-8056d76a13ef",
   "metadata": {},
   "outputs": [],
   "source": []
  }
 ],
 "metadata": {
  "kernelspec": {
   "display_name": "Python 3",
   "language": "python",
   "name": "python3"
  },
  "language_info": {
   "codemirror_mode": {
    "name": "ipython",
    "version": 3
   },
   "file_extension": ".py",
   "mimetype": "text/x-python",
   "name": "python",
   "nbconvert_exporter": "python",
   "pygments_lexer": "ipython3",
   "version": "3.7.10"
  }
 },
 "nbformat": 4,
 "nbformat_minor": 5
}
