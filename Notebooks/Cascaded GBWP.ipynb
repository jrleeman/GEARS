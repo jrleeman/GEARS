{
 "cells": [
  {
   "cell_type": "code",
   "execution_count": 1,
   "id": "de31dbd5-fd12-40c2-a207-84e6fc0dbeed",
   "metadata": {},
   "outputs": [],
   "source": [
    "import numpy as np\n",
    "import matplotlib.pyplot as plt\n",
    "%matplotlib inline"
   ]
  },
  {
   "cell_type": "code",
   "execution_count": 8,
   "id": "30774bd5-998e-4a19-b71e-ed79bc758636",
   "metadata": {},
   "outputs": [],
   "source": [
    "gbwp = 1000\n",
    "gain = 100\n",
    "stages = np.arange(1, 11)\n",
    "stage_gain = gain ** (1/stages)\n",
    "bandwidth_total = (gbwp / stage_gain) * np.sqrt(2**(1/stages) - 1)"
   ]
  },
  {
   "cell_type": "code",
   "execution_count": 9,
   "id": "cd46797f-c4d7-4eb6-a15b-b555f70b82fa",
   "metadata": {},
   "outputs": [
    {
     "data": {
      "text/plain": [
       "<matplotlib.collections.PathCollection at 0x240a4a31a88>"
      ]
     },
     "execution_count": 9,
     "metadata": {},
     "output_type": "execute_result"
    },
    {
     "data": {
      "image/png": "[encoded data removed]",
      "text/plain": [
       "<Figure size 432x288 with 1 Axes>"
      ]
     },
     "metadata": {
      "needs_background": "light"
     },
     "output_type": "display_data"
    }
   ],
   "source": [
    "plt.scatter(stages, bandwidth_total)"
   ]
  },
  {
   "cell_type": "code",
   "execution_count": 10,
   "id": "5dce44bd-499a-4525-9586-ff832c39659d",
   "metadata": {},
   "outputs": [
    {
     "data": {
      "text/plain": [
       "array([ 1,  2,  3,  4,  5,  6,  7,  8,  9, 10])"
      ]
     },
     "execution_count": 10,
     "metadata": {},
     "output_type": "execute_result"
    }
   ],
   "source": [
    "stages"
   ]
  },
  {
   "cell_type": "code",
   "execution_count": 11,
   "id": "ab0fc5e5-9456-46ac-9dd9-b669f92e86a3",
   "metadata": {},
   "outputs": [
    {
     "data": {
      "text/plain": [
       "array([ 10.        ,  64.35942529, 109.83836501, 137.55257722,\n",
       "       153.51580067, 162.43044206, 167.10490737, 169.1775934 ,\n",
       "       169.62304783, 169.03706721])"
      ]
     },
     "execution_count": 11,
     "metadata": {},
     "output_type": "execute_result"
    }
   ],
   "source": [
    "bandwidth_total"
   ]
  },
  {
   "cell_type": "code",
   "execution_count": 21,
   "id": "e9299513-5b2f-4a5e-904c-ff7e795e0180",
   "metadata": {},
   "outputs": [
    {
     "data": {
      "text/plain": [
       "array([100.        ,  10.        ,   4.64158883,   3.16227766,\n",
       "         2.51188643,   2.15443469,   1.93069773,   1.77827941,\n",
       "         1.66810054,   1.58489319])"
      ]
     },
     "execution_count": 21,
     "metadata": {},
     "output_type": "execute_result"
    }
   ],
   "source": [
    "stage_gain"
   ]
  },
  {
   "cell_type": "code",
   "execution_count": 20,
   "id": "bb976891-82bb-4488-b279-26836fddd66c",
   "metadata": {},
   "outputs": [
    {
     "data": {
      "image/png": "[encoded data removed]",
      "text/plain": [
       "<Figure size 720x540 with 1 Axes>"
      ]
     },
     "metadata": {
      "needs_background": "light"
     },
     "output_type": "display_data"
    }
   ],
   "source": [
    "# Setup figure and axes\n",
    "# Generally plots is ~1.33x width to height (10,7.5 or 12,9)\n",
    "fig = plt.figure(figsize=(10,7.5))\n",
    "ax1 = plt.subplot(111)\n",
    "\n",
    "ax1.grid()\n",
    "\n",
    "# Turn off top and right tick marks \n",
    "ax1.get_xaxis().tick_bottom()  \n",
    "ax1.get_yaxis().tick_left()  \n",
    "\n",
    "# Turn off top and right splines\n",
    "ax1.spines[\"top\"].set_visible(False)  \n",
    "ax1.spines[\"right\"].set_visible(False)  \n",
    "\n",
    "# Plotting\n",
    "ax1.scatter(stages, bandwidth_total, s=100, zorder=10)\n",
    "\n",
    "ax1.tick_params(axis='both', which='major', labelsize=16)\n",
    "ax1.set_xlabel('Stages',fontsize=18)\n",
    "ax1.set_ylabel('Bandwidth [kHz]',fontsize=18)\n",
    "#ax1.set_xlim(0,10)\n",
    "#ax1.set_ylim(0,10)\n",
    "\n",
    "plt.savefig('multistage_gain.png', bbox_inches='tight');  "
   ]
  },
  {
   "cell_type": "code",
   "execution_count": null,
   "id": "49c2aa54-8b9b-408d-96fe-1c5baeefde99",
   "metadata": {},
   "outputs": [],
   "source": []
  }
 ],
 "metadata": {
  "kernelspec": {
   "display_name": "Python 3",
   "language": "python",
   "name": "python3"
  },
  "language_info": {
   "codemirror_mode": {
    "name": "ipython",
    "version": 3
   },
   "file_extension": ".py",
   "mimetype": "text/x-python",
   "name": "python",
   "nbconvert_exporter": "python",
   "pygments_lexer": "ipython3",
   "version": "3.7.10"
  }
 },
 "nbformat": 4,
 "nbformat_minor": 5
}
